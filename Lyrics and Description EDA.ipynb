{
 "cells": [
  {
   "cell_type": "markdown",
   "id": "7f79baf9",
   "metadata": {},
   "source": [
    "# ADS 509 Assignment 2.1: Tokenization, Normalization, Descriptive Statistics \n",
    "\n",
    "**Lorena Dorado**\n",
    "\n",
    "his notebook holds Assignment 2.1 for Module 2 in ADS 509, Applied Text Mining. Work through this notebook, writing code and answering questions where required. \n",
    "\n",
    "In the previous assignment you pulled lyrics data on two artists. In this assignment we explore this data set and a pull from the now-defunct Twitter API for the artists Cher and Robyn.  If, for some reason, you did not complete that previous assignment, data to use for this assignment can be found in the assignment materials section of Canvas. \n",
    "\n",
    "This assignment asks you to write a short function to calculate some descriptive statistics on a piece of text. Then you are asked to find some interesting and unique statistics on your corpora. \n"
   ]
  },
  {
   "cell_type": "markdown",
   "id": "aae8e2e1",
   "metadata": {},
   "source": [
    "## General Assignment Instructions\n",
    "\n",
    "These instructions are included in every assignment, to remind you of the coding standards for the class. Feel free to delete this cell after reading it. \n",
    "\n",
    "One sign of mature code is conforming to a style guide. We recommend the [Google Python Style Guide](https://google.github.io/styleguide/pyguide.html). If you use a different style guide, please include a cell with a link. \n",
    "\n",
    "Your code should be relatively easy-to-read, sensibly commented, and clean. Writing code is a messy process, so please be sure to edit your final submission. Remove any cells that are not needed or parts of cells that contain unnecessary code. Remove inessential `import` statements and make sure that all such statements are moved into the designated cell. \n",
    "\n",
    "Make use of non-code cells for written commentary. These cells should be grammatical and clearly written. In some of these cells you will have questions to answer. The questions will be marked by a \"Q:\" and will have a corresponding \"A:\" spot for you. *Make sure to answer every question marked with a `Q:` for full credit.* \n"
   ]
  },
  {
   "cell_type": "code",
   "execution_count": 1,
   "id": "e2d096b7",
   "metadata": {},
   "outputs": [],
   "source": [
    "import os\n",
    "import re\n",
    "import emoji\n",
    "import pandas as pd\n",
    "import numpy as np\n",
    "# import nltk\n",
    "# nltk.download()\n",
    "\n",
    "from collections import Counter, defaultdict\n",
    "from nltk.corpus import stopwords\n",
    "from string import punctuation\n",
    "\n",
    "sw = stopwords.words(\"english\")"
   ]
  },
  {
   "cell_type": "code",
   "execution_count": 2,
   "id": "6b555ab2",
   "metadata": {},
   "outputs": [],
   "source": [
    "# Add any additional import statements you need here\n",
    "# For visualization\n",
    "import matplotlib.pyplot as plt"
   ]
  },
  {
   "cell_type": "code",
   "execution_count": 3,
   "id": "923b5a86",
   "metadata": {},
   "outputs": [],
   "source": [
    "# change `data_location` to the location of the folder on your machine.\n",
    "data_location = \"/Users/Dell/Desktop/509/M1_ads-tm-scrape/\"\n",
    "# data_location = \"/users/chandler/dropbox/teaching/repos/ads-tm-api-scrape/\"\n",
    "\n",
    "# These subfolders should still work if you correctly stored the \n",
    "# data from the Module 1 assignment\n",
    "twitter_folder = \"twitter/\"\n",
    "lyrics_folder = \"lyrics/\""
   ]
  },
  {
   "cell_type": "code",
   "execution_count": 4,
   "id": "06522af9",
   "metadata": {},
   "outputs": [],
   "source": [
    "def descriptive_stats(tokens, num_tokens = 5, verbose=True) :\n",
    "    \"\"\"\n",
    "        Given a list of tokens, print number of tokens, number of unique tokens, \n",
    "        number of characters, lexical diversity (https://en.wikipedia.org/wiki/Lexical_diversity), \n",
    "        and num_tokens most common tokens. Return a list with the number of tokens, number\n",
    "        of unique tokens, lexical diversity, and number of characters. \n",
    "    \n",
    "    \"\"\"\n",
    "\n",
    "    # Fill in the correct values here. \n",
    "    num_tokens = len(tokens)\n",
    "    num_unique_tokens = len(set(tokens))\n",
    "    # ratio of unique tokens to the total number of tokens in the IF words in text\n",
    "    lexical_diversity = num_unique_tokens / num_tokens if num_tokens > 0 else 0\n",
    "    num_characters = sum(len(token) for token in tokens)\n",
    "    \n",
    "    if verbose :        \n",
    "        print(f\"There are {num_tokens} tokens in the data.\")\n",
    "        print(f\"There are {num_unique_tokens} unique tokens in the data.\")\n",
    "        print(f\"There are {num_characters} characters in the data.\")\n",
    "        print(f\"The lexical diversity is {lexical_diversity:.3f} in the data.\")\n",
    "    \n",
    "        # print the five most common tokens using Counter\n",
    "        most_common = Counter(tokens).most_common(5)\n",
    "        print(f\"\\nThe five most common tokens:\")\n",
    "        for token, count in most_common:\n",
    "            print(f\"  {token}: {count}\")\n",
    "        \n",
    "    return([num_tokens, num_unique_tokens,\n",
    "            lexical_diversity,\n",
    "            num_characters])\n",
    "    "
   ]
  },
  {
   "cell_type": "code",
   "execution_count": 5,
   "id": "59dcf058",
   "metadata": {},
   "outputs": [
    {
     "name": "stdout",
     "output_type": "stream",
     "text": [
      "There are 13 tokens in the data.\n",
      "There are 9 unique tokens in the data.\n",
      "There are 55 characters in the data.\n",
      "The lexical diversity is 0.692 in the data.\n",
      "\n",
      "The five most common tokens:\n",
      "  text: 3\n",
      "  here: 2\n",
      "  example: 2\n",
      "  is: 1\n",
      "  some: 1\n"
     ]
    }
   ],
   "source": [
    "text = \"\"\"here is some example text with other example text here in this text\"\"\".split()\n",
    "assert(descriptive_stats(text, verbose=True)[0] == 13)\n",
    "assert(descriptive_stats(text, verbose=False)[1] == 9)\n",
    "assert(abs(descriptive_stats(text, verbose=False)[2] - 0.69) < 0.02)\n",
    "assert(descriptive_stats(text, verbose=False)[3] == 55)\n"
   ]
  },
  {
   "cell_type": "markdown",
   "id": "d2e7e1a2",
   "metadata": {},
   "source": [
    "Q: Why is it beneficial to use assertion statements in your code? \n",
    "\n",
    "**A: Assertion statements are useful for catching bugs by validating assumptions and ensuring that functions return expected results. They help stop the program or raise an error message when specified conditions are not satisfied.**"
   ]
  },
  {
   "cell_type": "markdown",
   "id": "9d3bf93e",
   "metadata": {},
   "source": [
    "## Data Input\n",
    "\n",
    "Now read in each of the corpora. For the lyrics data, it may be convenient to store the entire contents of the file to make it easier to inspect the titles individually, as you'll do in the last part of the assignment. In the solution, I stored the lyrics data in a dictionary with two dimensions of keys: artist and song. The value was the file contents. A data frame would work equally well. \n",
    "\n",
    "For the Twitter data, we only need the description field for this assignment. Feel free all the descriptions read it into a data structure. In the solution, I stored the descriptions as a dictionary of lists, with the key being the artist. \n",
    "\n",
    "\n"
   ]
  },
  {
   "cell_type": "code",
   "execution_count": 6,
   "id": "37d70801",
   "metadata": {},
   "outputs": [],
   "source": [
    "# Read in the lyrics data\n",
    "lyrics_data = defaultdict(dict) # Nested dictionary\n",
    "for artist in ['daftpunk', 'eagles']:\n",
    "    artist_folder = os.path.join(data_location, lyrics_folder, artist) # path to artist folder\n",
    "    for song_file in os.listdir(artist_folder): # Iterate thru folder\n",
    "        with open(os.path.join(artist_folder, song_file), 'r', encoding='utf-8') as f:\n",
    "            lyrics_data[artist][song_file] = f.read() # Store lyrcs in nested dictionary"
   ]
  },
  {
   "cell_type": "code",
   "execution_count": 7,
   "id": "debcac5a",
   "metadata": {},
   "outputs": [],
   "source": [
    "# Read in the twitter data\n",
    "twitter_descriptions = defaultdict(list)\n",
    "artist_files = {\n",
    "    'cher': 'cher_followers_data.txt',\n",
    "    'robyn': 'robynkonichiwa_followers_data.txt'\n",
    "}\n",
    "\n",
    "for artist, filename in artist_files.items(): # Loop thru artists and files\n",
    "    try:\n",
    "        with open(os.path.join(data_location, twitter_folder, filename), 'r', encoding='utf-8') as f:\n",
    "            # Read each line as a description\n",
    "            for line in f:\n",
    "                if line.strip():  # Skip empty lines\n",
    "                    try:\n",
    "                        # Each line is a description\n",
    "                        description = line.strip()\n",
    "                        # Skip artifacts or non-text\n",
    "                        if description and not description.startswith('{') and not description.startswith('['):\n",
    "                            twitter_descriptions[artist].append(description)\n",
    "                    except Exception as e:\n",
    "                        print(f\"Error processing line in {filename}: {e}\")\n",
    "    except Exception as e:\n",
    "        print(f\"Error reading {filename}: {e}\")"
   ]
  },
  {
   "cell_type": "markdown",
   "id": "6a5f3b12",
   "metadata": {},
   "source": [
    "## Data Cleaning\n",
    "\n",
    "Now clean and tokenize your data. Remove punctuation chacters (available in the `punctuation` object in the `string` library), split on whitespace, fold to lowercase, and remove stopwords. Store your cleaned data, which must be accessible as an interable for `descriptive_stats`, in new objects or in new columns in your data frame. \n",
    "\n"
   ]
  },
  {
   "cell_type": "code",
   "execution_count": 8,
   "id": "71c73d86",
   "metadata": {},
   "outputs": [],
   "source": [
    "punctuation = set(punctuation) # speeds up comparison\n",
    "\n",
    "# Data Cleaning\n",
    "def clean_text(text):\n",
    "    \"\"\"Remove punctuation, split on whitespace, fold to lowercase, and remove stopwords\"\"\"\n",
    "    # Skip if not a string\n",
    "    if not isinstance(text, str):\n",
    "        return []\n",
    "    # Convert to lowercase and remove punctuation\n",
    "    cleaned = ''.join(char.lower() for char in text if char not in punctuation)\n",
    "    # Tokenize and remove stopwords\n",
    "    tokens = [word for word in cleaned.split()\n",
    "              if word not in sw\n",
    "              and not word.isdigit() # remove numbers\n",
    "              and word.strip()]\n",
    "    return tokens"
   ]
  },
  {
   "cell_type": "code",
   "execution_count": 9,
   "id": "b327033a",
   "metadata": {},
   "outputs": [],
   "source": [
    "# create your clean twitter data here\n",
    "clean_twitter = defaultdict(list)\n",
    "for artist, descriptions in twitter_descriptions.items():\n",
    "    for desc in descriptions:\n",
    "        clean_tokens = clean_text(desc)\n",
    "        if clean_tokens:  # Only add if we got valid tokens\n",
    "            clean_twitter[artist].extend(clean_tokens)"
   ]
  },
  {
   "cell_type": "code",
   "execution_count": 10,
   "id": "e0f22e10",
   "metadata": {},
   "outputs": [],
   "source": [
    "# create your clean lyrics data here\n",
    "clean_lyrics = defaultdict(list)\n",
    "for artist, songs in lyrics_data.items():\n",
    "    for song, lyrics in songs.items():\n",
    "        clean_lyrics[artist].extend(clean_text(lyrics))"
   ]
  },
  {
   "cell_type": "markdown",
   "id": "f2dd0179",
   "metadata": {},
   "source": [
    "## Basic Descriptive Statistics\n",
    "\n",
    "Call your `descriptive_stats` function on both your lyrics data and your twitter data and for both artists (four total calls). "
   ]
  },
  {
   "cell_type": "markdown",
   "id": "b6027dcb-7c5b-401a-897e-087b7729c06b",
   "metadata": {},
   "source": [
    "## Descriptions Statistics from Twitter Data"
   ]
  },
  {
   "cell_type": "code",
   "execution_count": 11,
   "id": "f0bbedd9",
   "metadata": {},
   "outputs": [
    {
     "name": "stdout",
     "output_type": "stream",
     "text": [
      "\n",
      "Statistics for cher's followers' descriptions:\n",
      "There are 30052904 tokens in the data.\n",
      "There are 6605053 unique tokens in the data.\n",
      "There are 200372525 characters in the data.\n",
      "The lexical diversity is 0.220 in the data.\n",
      "\n",
      "The five most common tokens:\n",
      "  love: 221728\n",
      "  im: 141980\n",
      "  usa: 140893\n",
      "  life: 125699\n",
      "  new: 106519\n",
      "\n",
      "Statistics for robyn's followers' descriptions:\n",
      "There are 2784554 tokens in the data.\n",
      "There are 762752 unique tokens in the data.\n",
      "There are 18723407 characters in the data.\n",
      "The lexical diversity is 0.274 in the data.\n",
      "\n",
      "The five most common tokens:\n",
      "  music: 16049\n",
      "  sweden: 12721\n",
      "  love: 12190\n",
      "  new: 10249\n",
      "  stockholm: 9701\n"
     ]
    }
   ],
   "source": [
    "# calls to descriptive_stats here\n",
    "for artist in clean_twitter:\n",
    "    print(f\"\\nStatistics for {artist}'s followers' descriptions:\")\n",
    "    descriptive_stats(clean_twitter[artist])"
   ]
  },
  {
   "cell_type": "markdown",
   "id": "bedf3ac7-16a9-4537-8593-fde6feabacf2",
   "metadata": {},
   "source": [
    "## Descriptions Statistics for Lyrics from Module 1"
   ]
  },
  {
   "cell_type": "code",
   "execution_count": 12,
   "id": "47fc45c1-f913-47c6-a188-520b8450e53a",
   "metadata": {},
   "outputs": [
    {
     "name": "stdout",
     "output_type": "stream",
     "text": [
      "\n",
      "Statistics for daftpunk's lyrics:\n",
      "There are 4913 tokens in the data.\n",
      "There are 849 unique tokens in the data.\n",
      "There are 24555 characters in the data.\n",
      "The lexical diversity is 0.173 in the data.\n",
      "\n",
      "The five most common tokens:\n",
      "  around: 150\n",
      "  world: 149\n",
      "  rock: 105\n",
      "  love: 87\n",
      "  get: 78\n",
      "\n",
      "Statistics for eagles's lyrics:\n",
      "There are 11680 tokens in the data.\n",
      "There are 2120 unique tokens in the data.\n",
      "There are 57387 characters in the data.\n",
      "The lexical diversity is 0.182 in the data.\n",
      "\n",
      "The five most common tokens:\n",
      "  dont: 166\n",
      "  know: 150\n",
      "  love: 141\n",
      "  youre: 118\n",
      "  im: 117\n"
     ]
    }
   ],
   "source": [
    "for artist in clean_lyrics:\n",
    "    print(f\"\\nStatistics for {artist}'s lyrics:\")\n",
    "    descriptive_stats(clean_lyrics[artist])"
   ]
  },
  {
   "cell_type": "markdown",
   "id": "46294409",
   "metadata": {},
   "source": [
    "Q: How do you think the \"top 5 words\" would be different if we left stopwords in the data? \n",
    "\n",
    "**A: The top words would likely include common stopwords like \"the\" or numbers that appear in the song file that is not part of the lyric. These frequent but less meaningful words would probably overshadow more informative words that provide better insights about the songs.**\n",
    "\n",
    "---\n",
    "\n",
    "Q: What were your prior beliefs about the lexical diversity between the artists? Does the difference (or lack thereof) in lexical diversity between the artists conform to your prior beliefs? \n",
    "\n",
    "**A: Like Professor's comment, I also had the expectation that the Eagles would proportionally have more words and more unique words than Daft Punk. However, the lexical diversity between the two artists suggests that their songs might have similar levels of vocabulary variation. Daft Punk's lexical diversity was 0.174, while the Eagles' was 0.182. I initially thought Daft Punk's lexical diversity would be significantly lower due to their typically repetitive lyrics, compared to the Eagles' narrative songwriting with a broader vocabulary.**\n"
   ]
  },
  {
   "cell_type": "markdown",
   "id": "4d4e1ac1",
   "metadata": {},
   "source": [
    "\n",
    "## Specialty Statistics\n",
    "\n",
    "The descriptive statistics we have calculated are quite generic. You will now calculate a handful of statistics tailored to these data.\n",
    "\n",
    "1. Ten most common emojis by artist in the twitter descriptions.\n",
    "1. Ten most common hashtags by artist in the twitter descriptions.\n",
    "1. Five most common words in song titles by artist. \n",
    "1. For each artist, a histogram of song lengths (in terms of number of tokens) \n",
    "\n",
    "We can use the `emoji` library to help us identify emojis and you have been given a function to help you.\n"
   ]
  },
  {
   "cell_type": "code",
   "execution_count": 13,
   "id": "753a5a3e",
   "metadata": {},
   "outputs": [],
   "source": [
    "assert(emoji.is_emoji(\"❤️\"))\n",
    "assert(not emoji.is_emoji(\":-)\"))"
   ]
  },
  {
   "cell_type": "markdown",
   "id": "986fc4c0",
   "metadata": {},
   "source": [
    "### Emojis 😁\n",
    "\n",
    "What are the ten most common emojis by artist in the twitter descriptions? \n"
   ]
  },
  {
   "cell_type": "code",
   "execution_count": 14,
   "id": "269cd433",
   "metadata": {},
   "outputs": [
    {
     "name": "stdout",
     "output_type": "stream",
     "text": [
      "\n",
      "cher's top 10 emojis:\n",
      "[('❤', 94506), ('🌈', 66291), ('♥', 48059), ('🏳', 47174), ('✨', 45846), ('🌊', 31234), ('💙', 31050), ('🏻', 25195), ('✌', 21963), ('💜', 21571)]\n",
      "\n",
      "robyn's top 10 emojis:\n",
      "[('🌈', 6086), ('❤', 5635), ('🏳', 4641), ('♥', 4249), ('✨', 3217), ('🏻', 1751), ('✌', 1495), ('♀', 1347), ('🏼', 1340), ('💙', 1200)]\n"
     ]
    }
   ],
   "source": [
    "# Your code here\n",
    "# Get emoji from description\n",
    "def get_emojis(text):\n",
    "    return [c for c in text if emoji.is_emoji(c)] # List comprehension for emojis\n",
    "    \n",
    "for artist, descriptions in twitter_descriptions.items(): # Loop thru artist and twitter desc\n",
    "    all_emojis = []\n",
    "    for desc in descriptions:\n",
    "        all_emojis.extend(get_emojis(desc)) # add to all_emojis list\n",
    "    print(f\"\\n{artist}'s top 10 emojis:\")\n",
    "    print(Counter(all_emojis).most_common(10)) # most common method"
   ]
  },
  {
   "cell_type": "markdown",
   "id": "bab9b770",
   "metadata": {},
   "source": [
    "### Hashtags\n",
    "\n",
    "What are the ten most common hashtags by artist in the twitter descriptions? \n"
   ]
  },
  {
   "cell_type": "code",
   "execution_count": 15,
   "id": "07c396f1",
   "metadata": {},
   "outputs": [
    {
     "name": "stdout",
     "output_type": "stream",
     "text": [
      "\n",
      "cher's top 10 hashtags:\n",
      "[('#BLM', 10100), ('#Resist', 6161), ('#BlackLivesMatter', 4888), ('#resist', 3860), ('#FBR', 3330), ('#1', 3111), ('#TheResistance', 3044), ('#blacklivesmatter', 2738), ('#Resistance', 1953), ('#RESIST', 1878)]\n",
      "\n",
      "robyn's top 10 hashtags:\n",
      "[('#BlackLivesMatter', 356), ('#BLM', 345), ('#1', 228), ('#blacklivesmatter', 222), ('#music', 175), ('#Music', 114), ('#EDM', 87), ('#LGBTQ', 76), ('#blm', 60), ('#TeamFollowBack', 59)]\n"
     ]
    }
   ],
   "source": [
    "# Your code here\n",
    "# get hashtags from description\n",
    "def get_hashtags(text):\n",
    "    # Use regularexpressions and match hashtags followed by characters\n",
    "    return re.findall(r'#\\w+', text)\n",
    "\n",
    "for artist, descriptions in twitter_descriptions.items():\n",
    "    all_hashtags = []\n",
    "    for desc in descriptions:\n",
    "        all_hashtags.extend(get_hashtags(desc))\n",
    "    print(f\"\\n{artist}'s top 10 hashtags:\")\n",
    "    print(Counter(all_hashtags).most_common(10))"
   ]
  },
  {
   "cell_type": "markdown",
   "id": "d10f21d5",
   "metadata": {},
   "source": [
    "### Song Titles\n",
    "\n",
    "What are the five most common words in song titles by artist? The song titles should be on the first line of the lyrics pages, so if you have kept the raw file contents around, you will not need to re-read the data.\n"
   ]
  },
  {
   "cell_type": "code",
   "execution_count": 16,
   "id": "3153bda6-0400-41fd-b2da-03cc7e79b912",
   "metadata": {},
   "outputs": [
    {
     "name": "stdout",
     "output_type": "stream",
     "text": [
      "\n",
      "daftpunk's top 5 words in song titles:\n",
      "[('time', 4), ('love', 3), ('face', 2), ('fragments', 2), ('life', 2)]\n",
      "\n",
      "eagles's top 5 words in song titles:\n",
      "[('live', 11), ('new', 5), ('love', 5), ('long', 4), ('time', 4)]\n"
     ]
    }
   ],
   "source": [
    "# Your code here\n",
    "for artist, songs in lyrics_data.items():\n",
    "    title_words = []  # Initialize a list to store words from song titles\n",
    "    \n",
    "    for song_file, lyrics in songs.items():\n",
    "        # Get the first line of the lyrics (should be song title)\n",
    "        first_line = lyrics.splitlines()[0]\n",
    "        \n",
    "        # Clean and tokenize title, then add words to the list\n",
    "        title_words.extend(clean_text(first_line))\n",
    "    \n",
    "    # Print top 5 most common words in artists' song titles\n",
    "    print(f\"\\n{artist}'s top 5 words in song titles:\")\n",
    "    print(Counter(title_words).most_common(5))"
   ]
  },
  {
   "cell_type": "markdown",
   "id": "5dd4fd71",
   "metadata": {},
   "source": [
    "### Song Lengths\n",
    "\n",
    "For each artist, a histogram of song lengths (in terms of number of tokens). If you put the song lengths in a data frame with an artist column, matplotlib will make the plotting quite easy. An example is given to help you out. \n"
   ]
  },
  {
   "cell_type": "code",
   "execution_count": 17,
   "id": "805a1e52",
   "metadata": {},
   "outputs": [
    {
     "data": {
      "text/plain": [
       "artist\n",
       "Artist 1    Axes(0.125,0.11;0.775x0.77)\n",
       "Artist 2    Axes(0.125,0.11;0.775x0.77)\n",
       "Name: length, dtype: object"
      ]
     },
     "execution_count": 17,
     "metadata": {},
     "output_type": "execute_result"
    },
    {
     "data": {
      "image/png": "[encoded data removed]",
      "text/plain": [
       "<Figure size 640x480 with 1 Axes>"
      ]
     },
     "metadata": {},
     "output_type": "display_data"
    }
   ],
   "source": [
    "num_replicates = 1000\n",
    "\n",
    "df = pd.DataFrame({\n",
    "    \"artist\" : ['Artist 1'] * num_replicates + ['Artist 2']*num_replicates,\n",
    "    \"length\" : np.concatenate((np.random.poisson(125,num_replicates),np.random.poisson(150,num_replicates)))\n",
    "})\n",
    "\n",
    "df.groupby('artist')['length'].plot(kind=\"hist\",density=True,alpha=0.5,legend=True)"
   ]
  },
  {
   "cell_type": "markdown",
   "id": "8fde9ebb",
   "metadata": {},
   "source": [
    "Since the lyrics may be stored with carriage returns or tabs, it may be useful to have a function that can collapse whitespace, using regular expressions, and be used for splitting. \n",
    "\n",
    "Q: What does the regular expression `'\\s+'` match on? \n",
    "\n",
    "**A: The regular expression \\s+ matches one or more whitespace characters, including spaces, tabs, newlines, carriage returns, form feeds, and vertical tabs. The \\s matches any type of whitespace, while the + quantifier ensures it matches one or more occurrences. This expression is commonly used to collapse multiple whitespace characters into a single space.**\n"
   ]
  },
  {
   "cell_type": "code",
   "execution_count": 18,
   "id": "f0e34516",
   "metadata": {},
   "outputs": [],
   "source": [
    "collapse_whitespace = re.compile(r'\\s+')\n",
    "\n",
    "def tokenize_lyrics(lyric) : \n",
    "    \"\"\"strip and split on whitespace\"\"\"\n",
    "    return([item.lower() for item in collapse_whitespace.split(lyric)])"
   ]
  },
  {
   "cell_type": "code",
   "execution_count": 19,
   "id": "2294c440",
   "metadata": {},
   "outputs": [
    {
     "data": {
      "image/png": "[encoded data removed]",
      "text/plain": [
       "<Figure size 1000x600 with 1 Axes>"
      ]
     },
     "metadata": {},
     "output_type": "display_data"
    }
   ],
   "source": [
    "# Your lyric length comparison chart here. \n",
    "# Store song lengths and artist into lists\n",
    "song_lengths = []\n",
    "song_artists = []\n",
    "\n",
    "# Iterate over artists and their songs in lyrics_data\n",
    "for artist, songs in lyrics_data.items():\n",
    "    for song, lyrics in songs.items():\n",
    "        tokens = tokenize_lyrics(lyrics) # Tokenize\n",
    "        song_lengths.append(len(tokens))\n",
    "        song_artists.append(artist)\n",
    "\n",
    "# Create dataframe for visualization\n",
    "length_df = pd.DataFrame({\n",
    "    'artist': song_artists,\n",
    "    'length': song_lengths\n",
    "})\n",
    "\n",
    "plt.figure(figsize=(10, 6))\n",
    "length_df.groupby('artist')['length'].plot(kind=\"hist\", density=True, alpha=0.5, legend=True)\n",
    "plt.title('Distribution of Song Lengths by Artist')\n",
    "plt.xlabel('Number of Tokens')\n",
    "plt.ylabel('Density')\n",
    "plt.show()"
   ]
  },
  {
   "cell_type": "markdown",
   "id": "181333ba-0d81-4a6d-87a5-f3c474909b5e",
   "metadata": {},
   "source": [
    "This distribution was expected given the artists' different styles. The Eagles follows a more conventional song structures as a rock band. On the other hand, Daft Punk is known for more short electronic tracks to longer compositions."
   ]
  },
  {
   "cell_type": "markdown",
   "id": "7e921eee-30b7-4085-92df-0b5f6e012afc",
   "metadata": {},
   "source": [
    "#### References\n",
    "\n",
    "Albrecht, J., Ramachandran, S., & Winkler, C. (2020). Blueprints for text analytics using Python. O'Reilly. \n",
    "\n",
    "OpenAI. (2025). ChatGPT (Version 4.0) [AI model]. OpenAI. https://openai.com/chatgpt"
   ]
  }
 ],
 "metadata": {
  "kernelspec": {
   "display_name": "Python 3 (ipykernel)",
   "language": "python",
   "name": "python3"
  },
  "language_info": {
   "codemirror_mode": {
    "name": "ipython",
    "version": 3
   },
   "file_extension": ".py",
   "mimetype": "text/x-python",
   "name": "python",
   "nbconvert_exporter": "python",
   "pygments_lexer": "ipython3",
   "version": "3.9.19"
  }
 },
 "nbformat": 4,
 "nbformat_minor": 5
}
